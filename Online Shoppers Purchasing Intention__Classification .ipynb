{
 "cells": [
  {
   "cell_type": "code",
   "execution_count": 23,
   "id": "107a92c5",
   "metadata": {},
   "outputs": [
    {
     "name": "stdout",
     "output_type": "stream",
     "text": [
      "Applying Decision Tree...\n",
      "Accuracy: 0.862124898621249\n",
      "\n",
      "Applying Support Vector Machine...\n",
      "Accuracy: 0.8353609083536091\n",
      "\n",
      "Applying GaussianNB...\n",
      "Accuracy: 0.8446877534468775\n",
      "\n",
      "Applying knn...\n",
      "Accuracy: 0.8499594484995945\n",
      "\n",
      "Applying Perceptron...\n",
      "Accuracy: 0.8775344687753447\n",
      "\n"
     ]
    }
   ],
   "source": [
    "import pandas as pd\n",
    "from sklearn.model_selection import train_test_split\n",
    "from sklearn.preprocessing import LabelEncoder\n",
    "from sklearn.tree import DecisionTreeClassifier\n",
    "from sklearn.naive_bayes import GaussianNB\n",
    "from sklearn.linear_model import Perceptron\n",
    "from sklearn.neighbors import KNeighborsClassifier\n",
    "from sklearn.svm import SVC\n",
    "from sklearn.metrics import accuracy_score\n",
    "\n",
    "# Loading the data set\n",
    "data = pd.read_csv(\"D:\\ML project\\online_shopper_intention.csv\")\n",
    "\n",
    "X = data.drop('Revenue', axis=1)\n",
    "y = data['Revenue']\n",
    "\n",
    "# Converting characters into integers\n",
    "le = LabelEncoder()\n",
    "X['Month'] = le.fit_transform(X['Month'])\n",
    "X['VisitorType'] = le.fit_transform(X['VisitorType'])\n",
    "X['Weekend'] = le.fit_transform(X['Weekend'])\n",
    "\n",
    "# Spliting the data \n",
    "X_train, X_test, y_train, y_test = train_test_split(X, y, test_size=0.2, random_state=42)\n",
    "\n",
    "# Defining classifiers\n",
    "k = 5  # Set the value of k for KNeighborsClassifier\n",
    "models = {\n",
    "    'Decision Tree': DecisionTreeClassifier(),\n",
    "    'Support Vector Machine': SVC(),\n",
    "    'GaussianNB' : GaussianNB(),\n",
    "    'knn' : KNeighborsClassifier(n_neighbors=k),\n",
    "    'Perceptron' : Perceptron(),\n",
    "}\n",
    "\n",
    "for model_name, model in models.items():\n",
    "    print(f'Applying {model_name}...')\n",
    "\n",
    "    # Fiting the model on the training data\n",
    "    model.fit(X_train, y_train)\n",
    "\n",
    "    # Predict the target variable on the test data\n",
    "    y_pred = model.predict(X_test)\n",
    "\n",
    "    #printing the accuracy score\n",
    "    accuracy = accuracy_score(y_test, y_pred)\n",
    "    print(f'Accuracy: {accuracy}\\n')\n"
   ]
  },
  {
   "cell_type": "code",
   "execution_count": null,
   "id": "36bbf785",
   "metadata": {},
   "outputs": [],
   "source": []
  }
 ],
 "metadata": {
  "kernelspec": {
   "display_name": "Python 3 (ipykernel)",
   "language": "python",
   "name": "python3"
  },
  "language_info": {
   "codemirror_mode": {
    "name": "ipython",
    "version": 3
   },
   "file_extension": ".py",
   "mimetype": "text/x-python",
   "name": "python",
   "nbconvert_exporter": "python",
   "pygments_lexer": "ipython3",
   "version": "3.11.2"
  }
 },
 "nbformat": 4,
 "nbformat_minor": 5
}
